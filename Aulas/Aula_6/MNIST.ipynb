{
 "cells": [
  {
   "cell_type": "markdown",
   "metadata": {
    "id": "r-QHhKKsgeLe"
   },
   "source": [
    "# MNIST Database MLP optimization with Numerical Methods!"
   ]
  },
  {
   "cell_type": "markdown",
   "metadata": {
    "id": "8CDzH2jLgueI"
   },
   "source": [
    "## Getting the data from the Built in MNIST Data set in tensorflow Module"
   ]
  },
  {
   "cell_type": "code",
   "execution_count": 1,
   "metadata": {
    "colab": {
     "base_uri": "https://localhost:8080/"
    },
    "executionInfo": {
     "elapsed": 5868,
     "status": "ok",
     "timestamp": 1717635672407,
     "user": {
      "displayName": "ian bezerra",
      "userId": "05417333999231090698"
     },
     "user_tz": 180
    },
    "id": "FUqllZsIgs7h",
    "outputId": "51fb9259-8c76-4787-b1ee-e0c92d8b2a8d"
   },
   "outputs": [
    {
     "name": "stderr",
     "output_type": "stream",
     "text": [
      "2025-06-10 00:30:49.707540: E external/local_xla/xla/stream_executor/cuda/cuda_dnn.cc:9261] Unable to register cuDNN factory: Attempting to register factory for plugin cuDNN when one has already been registered\n",
      "2025-06-10 00:30:49.707573: E external/local_xla/xla/stream_executor/cuda/cuda_fft.cc:607] Unable to register cuFFT factory: Attempting to register factory for plugin cuFFT when one has already been registered\n",
      "2025-06-10 00:30:49.708487: E external/local_xla/xla/stream_executor/cuda/cuda_blas.cc:1515] Unable to register cuBLAS factory: Attempting to register factory for plugin cuBLAS when one has already been registered\n",
      "2025-06-10 00:30:49.713702: I tensorflow/core/platform/cpu_feature_guard.cc:182] This TensorFlow binary is optimized to use available CPU instructions in performance-critical operations.\n",
      "To enable the following instructions: AVX2 FMA, in other operations, rebuild TensorFlow with the appropriate compiler flags.\n",
      "2025-06-10 00:30:50.842382: W tensorflow/compiler/tf2tensorrt/utils/py_utils.cc:38] TF-TRT Warning: Could not find TensorRT\n"
     ]
    }
   ],
   "source": [
    "import numpy as np\n",
    "import tensorflow as tf\n",
    "\n",
    "\n",
    "def load_and_preprocess_mnist():\n",
    "    # Carregando as Imagens\n",
    "    (train_images, train_labels), (test_images, test_labels) = tf.keras.datasets.mnist.load_data()   # Dataset do Tensorflow\n",
    "\n",
    "    # Normalizando as Imagens...\n",
    "    threshold = 128\n",
    "    train_images_flattened = np.where(train_images > threshold, 1, 0).reshape(train_images.shape[0], -1)\n",
    "    test_images_flattened = np.where(test_images > threshold, 1, 0).reshape(test_images.shape[0], -1)\n",
    "\n",
    "    return (train_images_flattened, train_labels)  # Retornando array Principal\n",
    "\n",
    "# Exemplo de Uso...\n",
    "(train_images_flattened, train_labels) = load_and_preprocess_mnist()\n",
    "\n",
    "\n"
   ]
  },
  {
   "cell_type": "code",
   "execution_count": 2,
   "metadata": {
    "colab": {
     "base_uri": "https://localhost:8080/"
    },
    "executionInfo": {
     "elapsed": 4,
     "status": "ok",
     "timestamp": 1717635672407,
     "user": {
      "displayName": "ian bezerra",
      "userId": "05417333999231090698"
     },
     "user_tz": 180
    },
    "id": "194QtatkhC4Q",
    "outputId": "d2ce7e6e-517b-4eff-bf8c-913485b4b6ee"
   },
   "outputs": [
    {
     "name": "stdout",
     "output_type": "stream",
     "text": [
      "----------------------------------------\n"
     ]
    }
   ],
   "source": [
    "\n",
    "# Example: Print the first flattened image and its label\n",
    "#print(\"First training image (flattened):\", train_images_flattened[200])\n",
    "#n = int(input(\"Enter a number of the index up to 60k: \"))\n",
    "#print(\"Label of the first training image:\", train_labels[n])\n",
    "print(\"----------------------------------------\")\n",
    "#print(f\"The data set is {len(train_images_flattened)} long:\""
   ]
  },
  {
   "cell_type": "markdown",
   "metadata": {
    "id": "4iI3y_ijg3x_"
   },
   "source": [
    "# ---------------------------------------------------------------------"
   ]
  },
  {
   "cell_type": "markdown",
   "metadata": {
    "id": "58WYTuFQhSIv"
   },
   "source": [
    "## Making a Pygame Grid That Reconstruct the Image!"
   ]
  },
  {
   "cell_type": "markdown",
   "metadata": {
    "id": "ypAbCGHYhhzY"
   },
   "source": [
    "# ---------------------------------------------------------------------"
   ]
  },
  {
   "cell_type": "code",
   "execution_count": 3,
   "metadata": {
    "colab": {
     "base_uri": "https://localhost:8080/"
    },
    "executionInfo": {
     "elapsed": 104091,
     "status": "ok",
     "timestamp": 1717635776495,
     "user": {
      "displayName": "ian bezerra",
      "userId": "05417333999231090698"
     },
     "user_tz": 180
    },
    "id": "J2_Aa8Xi2wCH",
    "outputId": "d2190428-9e98-4b72-cec6-ea3ea7c46870"
   },
   "outputs": [
    {
     "name": "stdout",
     "output_type": "stream",
     "text": [
      "Iteration 1, Loss: 0.18204690515995026\n",
      "Iteration 2, Loss: 0.1574133187532425\n",
      "Iteration 3, Loss: 0.028348833322525024\n",
      "Iteration 4, Loss: 0.043011680245399475\n",
      "Iteration 5, Loss: 0.05611226335167885\n",
      "Iteration 6, Loss: 0.015699179843068123\n",
      "Iteration 7, Loss: 0.012912499718368053\n",
      "Iteration 8, Loss: 0.020368359982967377\n",
      "Iteration 9, Loss: 0.0033911035861819983\n",
      "Iteration 10, Loss: 0.0015140956966206431\n",
      "Iteration 11, Loss: 0.0013037534663453698\n",
      "Iteration 12, Loss: 0.008790376596152782\n",
      "Iteration 13, Loss: 0.004875563085079193\n",
      "Iteration 14, Loss: 0.004834026098251343\n",
      "Iteration 15, Loss: 0.0045942398719489574\n",
      "Iteration 16, Loss: 0.0006888515781611204\n",
      "Iteration 17, Loss: 0.00014056793588679284\n",
      "Iteration 18, Loss: 0.00043870636727660894\n",
      "Iteration 19, Loss: 0.0002259606699226424\n",
      "Iteration 20, Loss: 0.00010496759205125272\n",
      "Iteration 21, Loss: 0.00024965006741695106\n",
      "Iteration 22, Loss: 0.0001401850167894736\n",
      "Iteration 23, Loss: 7.230740447994322e-05\n",
      "Iteration 24, Loss: 0.00026754100690595806\n",
      "Iteration 25, Loss: 3.3515028917463496e-05\n",
      "Iteration 26, Loss: 2.9510032618418336e-05\n",
      "Iteration 27, Loss: 8.62983288243413e-05\n",
      "Iteration 28, Loss: 4.371143950265832e-05\n",
      "Iteration 29, Loss: 0.046610619872808456\n",
      "Iteration 30, Loss: 0.0008359472267329693\n",
      "Iteration 31, Loss: 0.0021634164731949568\n",
      "Iteration 32, Loss: 0.00024272185692097992\n",
      "Iteration 33, Loss: 7.573187758680433e-05\n",
      "Iteration 34, Loss: 0.0001992009929381311\n",
      "Iteration 35, Loss: 5.4244144848780707e-05\n",
      "Iteration 36, Loss: 9.522026084596291e-05\n",
      "Iteration 37, Loss: 7.689376070629805e-05\n",
      "Iteration 38, Loss: 3.3056723623303697e-05\n",
      "Iteration 39, Loss: 6.443430174840614e-05\n",
      "Iteration 40, Loss: 2.619315819174517e-05\n",
      "Iteration 41, Loss: 6.432072405004874e-05\n",
      "Iteration 42, Loss: 4.087845081812702e-05\n",
      "Iteration 43, Loss: 3.331970583531074e-05\n",
      "Iteration 44, Loss: 1.4144159649731591e-05\n",
      "Iteration 45, Loss: 9.18790465220809e-06\n",
      "Iteration 46, Loss: 1.128488020185614e-05\n",
      "Iteration 47, Loss: 6.8032836679776665e-06\n",
      "Iteration 48, Loss: 1.6906213204492815e-05\n",
      "Iteration 49, Loss: 9.1648762463592e-06\n",
      "Iteration 50, Loss: 3.969575573137263e-06\n",
      "Iteration 51, Loss: 3.6134078982286155e-06\n",
      "Iteration 52, Loss: 6.019768534315517e-06\n",
      "Iteration 53, Loss: 4.7617850214010105e-06\n",
      "Iteration 54, Loss: 2.783960553642828e-06\n",
      "Iteration 55, Loss: 1.790588726180431e-06\n",
      "Iteration 56, Loss: 3.6494111554929987e-06\n",
      "Iteration 57, Loss: 5.724476750401664e-07\n",
      "Iteration 58, Loss: 4.271643376796419e-07\n",
      "Iteration 59, Loss: 6.668232686024567e-07\n",
      "Iteration 60, Loss: 4.0108773191604996e-07\n",
      "Iteration 61, Loss: 2.7070311148236215e-07\n",
      "Iteration 62, Loss: 3.1292370294977445e-07\n",
      "Iteration 63, Loss: 2.905715348333615e-07\n",
      "Iteration 64, Loss: 2.1730816968101863e-07\n",
      "Iteration 65, Loss: 4.644170132905856e-07\n",
      "Iteration 66, Loss: 1.750884024431798e-07\n",
      "Iteration 67, Loss: 4.967050060145084e-08\n"
     ]
    }
   ],
   "source": [
    "import torch\n",
    "import torch.nn as nn\n",
    "import torch.optim as optim\n",
    "from torch.utils.data import DataLoader, TensorDataset\n",
    "\n",
    "device = torch.device(\"cuda\" if torch.cuda.is_available() else \"cpu\")   # GPU\n",
    "\n",
    "xs = [torch.tensor(x, dtype=torch.double, device=device) for x in train_images_flattened]\n",
    "xs = torch.stack(xs)\n",
    "ys = torch.tensor(train_labels, dtype=torch.long, device=device)\n",
    "\n",
    "\n",
    "class Brein(nn.Module):\n",
    "    def __init__(self):\n",
    "        super(Brein, self).__init__()\n",
    "        self.fc1 = nn.Linear(28*28, 512)   # wn * xn + bn  - camada Linear (28*28)in -> 512 neutonios\n",
    "        self.relu = nn.ReLU()              # Funcao ReLu de Ativacao\n",
    "        self.fc2 = nn.Linear(512, 10)      # Camada Linear - (512)in -> 10 out\n",
    "\n",
    "    def forward(self, x):   # Foward Pass\n",
    "        x = self.fc1(x)     # Passando nas Respectivas Camadas!!\n",
    "        x = self.relu(x)\n",
    "        x = self.fc2(x)\n",
    "        return x\n",
    "\n",
    "def train_model(train_data, train_labels, model, criterion, optimizer, epochs=20, batch_size=128, tol=10e-3):\n",
    "\n",
    "    # Convertendo Dados Para Tensors e carregando em GPU\n",
    "    train_data = torch.tensor(train_data, dtype=torch.float32, device=device)\n",
    "    train_labels = torch.tensor(train_labels, dtype=torch.long, device=device)\n",
    "    train_dataset = TensorDataset(train_data, train_labels)\n",
    "    train_loader = DataLoader(train_dataset, batch_size=batch_size, shuffle=True)\n",
    "\n",
    "    # Training loop\n",
    "    big_loop = 0\n",
    "    #for loop in range(big_loop):\n",
    "    mode = 0\n",
    "\n",
    "    loss = 1000   # Inicializando Loss...(condicao do loop)\n",
    "    while loss > tol:\n",
    "        for data, labels in train_loader:\n",
    "            optimizer.zero_grad()    # Grad = 0\n",
    "            outputs = model(data)    # Foward pass\n",
    "            loss = criterion(outputs, labels)    # Loss function ...\n",
    "            loss.backward()\n",
    "            optimizer.step()\n",
    "        print(f'Iteration {big_loop+1}, Loss: {loss.item()}')\n",
    "\n",
    "        big_loop += 1\n",
    "    return model\n",
    "\n",
    "# Initialize the model\n",
    "model = Brein().to(device)\n",
    "\n",
    "# Define the loss function and optimizer\n",
    "criterion = nn.CrossEntropyLoss()\n",
    "optimizer = optim.Adam(model.parameters(), lr=0.001)\n",
    "# Prepare your MNIST data\n",
    "(train_images_flattened, train_labels) = load_and_preprocess_mnist()\n",
    "\n",
    "# Train the model\n",
    "trained_model = train_model(train_images_flattened, train_labels, model, criterion, optimizer, epochs=20, tol=10e-8)\n",
    "\n",
    "# Function to predict the digit\n",
    "def predict_digit(image, model):\n",
    "    image = torch.tensor(image, dtype=torch.float32)\n",
    "    outputs = model(image.unsqueeze(0))  # Add batch dimension\n",
    "    _, predicted = torch.max(outputs, 1)\n",
    "    return predicted.item()\n",
    "\n"
   ]
  },
  {
   "cell_type": "code",
   "execution_count": 4,
   "metadata": {
    "colab": {
     "base_uri": "https://localhost:8080/"
    },
    "executionInfo": {
     "elapsed": 11,
     "status": "ok",
     "timestamp": 1717635776495,
     "user": {
      "displayName": "ian bezerra",
      "userId": "05417333999231090698"
     },
     "user_tz": 180
    },
    "id": "zJGTJLksJ5Zi",
    "outputId": "5b4e6503-efd1-4584-b480-37454a526828"
   },
   "outputs": [
    {
     "name": "stdout",
     "output_type": "stream",
     "text": [
      "Predicted Digit: 5\n",
      "Predicted Digit: 5\n"
     ]
    },
    {
     "name": "stderr",
     "output_type": "stream",
     "text": [
      "/tmp/ipykernel_70372/3488076194.py:66: UserWarning: To copy construct from a tensor, it is recommended to use sourceTensor.clone().detach() or sourceTensor.clone().detach().requires_grad_(True), rather than torch.tensor(sourceTensor).\n",
      "  image = torch.tensor(image, dtype=torch.float32)\n"
     ]
    }
   ],
   "source": [
    "# Testando\n",
    "image = xs[0] # Primeira Imagem do banco de Dados\n",
    "predicted_digit = predict_digit(image, trained_model)\n",
    "print(f'Predicted Digit: {predicted_digit}')\n",
    "print(f'Predicted Digit: {train_labels[0]}')"
   ]
  },
  {
   "cell_type": "code",
   "execution_count": null,
   "metadata": {
    "id": "JwZpRv4T6R0a"
   },
   "outputs": [],
   "source": [
    "#torch.save(model.state_dict(), 'mnist_model.pth')"
   ]
  }
 ],
 "metadata": {
  "accelerator": "GPU",
  "colab": {
   "gpuType": "L4",
   "machine_shape": "hm",
   "provenance": []
  },
  "kernelspec": {
   "display_name": "Python 3",
   "name": "python3"
  },
  "language_info": {
   "codemirror_mode": {
    "name": "ipython",
    "version": 3
   },
   "file_extension": ".py",
   "mimetype": "text/x-python",
   "name": "python",
   "nbconvert_exporter": "python",
   "pygments_lexer": "ipython3",
   "version": "3.10.16"
  }
 },
 "nbformat": 4,
 "nbformat_minor": 0
}
